{
 "cells": [
  {
   "cell_type": "code",
   "execution_count": 4,
   "metadata": {},
   "outputs": [],
   "source": [
    "from pathlib import Path\n",
    "import numpy as np\n",
    "import cv2\n",
    "import glob "
   ]
  },
  {
   "cell_type": "code",
   "execution_count": 2,
   "metadata": {},
   "outputs": [],
   "source": [
    "def find_relaxed_match_in_array(array, element):\n",
    "    for obj in array:\n",
    "        if element in obj:\n",
    "            return obj \n",
    "\n",
    "def file_has_data(file):\n",
    "    with open(file, 'r') as read_obj:\n",
    "        first_char = read_obj.read(1)\n",
    "    if first_char.isnumeric():\n",
    "        return True \n",
    "    else:\n",
    "        return False "
   ]
  },
  {
   "cell_type": "markdown",
   "metadata": {},
   "source": [
    "## View images"
   ]
  },
  {
   "cell_type": "code",
   "execution_count": 3,
   "metadata": {},
   "outputs": [
    {
     "name": "stdout",
     "output_type": "stream",
     "text": [
      "data\\01\\img\\1_000160.JPG\n",
      "PEOPLE NUMBER IS 2| (2, 5)\n",
      "x1=3171, y1=2912, x2=3242, y2=3059| (3648, 5472)\n",
      "x1=1539, y1=1146, x2=1685, y2=1220| (3648, 5472)\n",
      "data\\01\\img\\1_000161.JPG\n",
      "PEOPLE NUMBER IS 3| (3, 5)\n",
      "x1=5434, y1=2701, x2=5471, y2=2762| (3648, 5472)\n",
      "x1=5209, y1=24, x2=5315, y2=121| (3648, 5472)\n",
      "x1=1491, y1=2581, x2=1613, y2=2661| (3648, 5472)\n",
      "data\\01\\img\\1_000162.JPG\n",
      "PEOPLE NUMBER IS 1| (1, 5)\n",
      "x1=5152, y1=1456, x2=5255, y2=1547| (3648, 5472)\n",
      "data\\01\\img\\1_000163.JPG\n",
      "PEOPLE NUMBER IS 1| (1, 5)\n",
      "x1=2650, y1=2099, x2=2754, y2=2198| (3648, 5472)\n",
      "data\\01\\img\\1_000164.JPG\n",
      "PEOPLE NUMBER IS 3| (3, 5)\n",
      "x1=863, y1=365, x2=983, y2=480| (3648, 5472)\n",
      "x1=2448, y1=888, x2=2516, y2=965| (3648, 5472)\n",
      "x1=2598, y1=3464, x2=2704, y2=3561| (3648, 5472)\n",
      "data\\01\\img\\1_000165.JPG\n",
      "PEOPLE NUMBER IS 3| (3, 5)\n",
      "x1=4832, y1=325, x2=4907, y2=483| (3648, 5472)\n",
      "x1=2338, y1=2269, x2=2442, y2=2383| (3648, 5472)\n",
      "x1=608, y1=1680, x2=733, y2=1804| (3648, 5472)\n",
      "data\\01\\img\\1_000166.JPG\n",
      "PEOPLE NUMBER IS 3| (3, 5)\n",
      "x1=2375, y1=146, x2=2430, y2=233| (3648, 5472)\n",
      "x1=2264, y1=139, x2=2339, y2=233| (3648, 5472)\n",
      "x1=4794, y1=1852, x2=4876, y2=2012| (3648, 5472)\n",
      "data\\01\\img\\1_000167.JPG\n",
      "PEOPLE NUMBER IS 4| (4, 5)\n",
      "x1=2357, y1=1660, x2=2407, y2=1727| (3648, 5472)\n",
      "x1=2261, y1=1655, x2=2332, y2=1724| (3648, 5472)\n",
      "x1=4769, y1=3370, x2=4854, y2=3531| (3648, 5472)\n",
      "x1=2151, y1=1470, x2=2213, y2=1527| (3648, 5472)\n",
      "data\\01\\img\\1_000168.JPG\n",
      "PEOPLE NUMBER IS 3| (3, 5)\n",
      "x1=2097, y1=2917, x2=2158, y2=2992| (3648, 5472)\n",
      "x1=2199, y1=3099, x2=2269, y2=3206| (3648, 5472)\n",
      "x1=2298, y1=3117, x2=2362, y2=3196| (3648, 5472)\n",
      "data\\01\\img\\1_000169.JPG\n",
      "PEOPLE NUMBER IS 4| (4, 5)\n",
      "x1=1081, y1=369, x2=1178, y2=476| (3648, 5472)\n",
      "x1=985, y1=378, x2=1093, y2=457| (3648, 5472)\n",
      "x1=1162, y1=623, x2=1226, y2=675| (3648, 5472)\n",
      "x1=1066, y1=534, x2=1149, y2=594| (3648, 5472)\n"
     ]
    },
    {
     "ename": "",
     "evalue": "",
     "output_type": "error",
     "traceback": [
      "\u001b[1;31mThe Kernel crashed while executing code in the current cell or a previous cell. \n",
      "\u001b[1;31mPlease review the code in the cell(s) to identify a possible cause of the failure. \n",
      "\u001b[1;31mClick <a href='https://aka.ms/vscodeJupyterKernelCrash'>here</a> for more info. \n",
      "\u001b[1;31mView Jupyter <a href='command:jupyter.viewOutput'>log</a> for further details."
     ]
    }
   ],
   "source": [
    "DATA_DIR = Path(\"./data\" )\n",
    "parts = [i for i in DATA_DIR.iterdir()][0]\n",
    "images_files = glob.glob(str(parts)+ \"/img/*\")\n",
    "labels_files = glob.glob(str(parts)+ \"/label/*\")\n",
    "\n",
    "for img_name in images_files:\n",
    "    img_file = Path(img_name)\n",
    "    print(img_file)\n",
    "    label_file_matched = find_relaxed_match_in_array(map(str, labels_files), img_file.stem)\n",
    "\n",
    "    if file_has_data(label_file_matched):\n",
    "        boxes = np.loadtxt(label_file_matched, delimiter=' ')\n",
    "        if boxes.ndim == 1:\n",
    "            boxes = boxes.reshape((1, -1))\n",
    "        img = cv2.imread(img_file)\n",
    "        height, width, _ = img.shape\n",
    "        print(f\"PEOPLE NUMBER IS {len(boxes)}| {boxes.shape}\")\n",
    "        for box in boxes:\n",
    "            _, x, y, w, h = box            \n",
    "            x1 = int(x * width - w * width/2)\n",
    "            y1 = int(y * height - h * height/ 2)\n",
    "            x2 = int(x1 + w*width)\n",
    "            y2 = int(y1 + h*height)\n",
    "            print(f\"{x1=}, {y1=}, {x2=}, {y2=}| ({height}, {width})\")\n",
    "            cv2.rectangle(img, (x1, y1), (x2, y2), color=(0, 0, 255), thickness=5)\n",
    "        cv2.imshow(str(img_file.stem), cv2.resize(img, (int(width/6), int(height/6)), interpolation=cv2.INTER_AREA))\n",
    "        key = cv2.waitKey()\n",
    "        if key == 27: # exit on ESC\n",
    "            break\n",
    "        cv2.destroyAllWindows()\n",
    "cv2.destroyAllWindows()\n"
   ]
  },
  {
   "cell_type": "markdown",
   "metadata": {},
   "source": [
    "## Rearange folder\n"
   ]
  },
  {
   "cell_type": "code",
   "execution_count": 11,
   "metadata": {},
   "outputs": [
    {
     "name": "stdout",
     "output_type": "stream",
     "text": [
      "['data\\\\labels\\\\01\\\\1_000160.txt', 'data\\\\labels\\\\01\\\\1_000161.txt', 'data\\\\labels\\\\01\\\\1_000162.txt', 'data\\\\labels\\\\01\\\\1_000163.txt', 'data\\\\labels\\\\01\\\\1_000164.txt', 'data\\\\labels\\\\01\\\\1_000165.txt', 'data\\\\labels\\\\01\\\\1_000166.txt', 'data\\\\labels\\\\01\\\\1_000167.txt', 'data\\\\labels\\\\01\\\\1_000168.txt', 'data\\\\labels\\\\01\\\\1_000169.txt', 'data\\\\labels\\\\01\\\\1_000170.txt', 'data\\\\labels\\\\01\\\\1_000171.txt', 'data\\\\labels\\\\01\\\\1_000172.txt', 'data\\\\labels\\\\01\\\\1_000173.txt', 'data\\\\labels\\\\01\\\\1_000174.txt', 'data\\\\labels\\\\01\\\\1_000175.txt', 'data\\\\labels\\\\01\\\\1_000176.txt', 'data\\\\labels\\\\01\\\\1_000177.txt', 'data\\\\labels\\\\01\\\\1_000178.txt', 'data\\\\labels\\\\01\\\\1_000179.txt', 'data\\\\labels\\\\01\\\\1_000180.txt', 'data\\\\labels\\\\01\\\\1_000181.txt', 'data\\\\labels\\\\01\\\\1_000182.txt', 'data\\\\labels\\\\01\\\\1_000183.txt', 'data\\\\labels\\\\01\\\\1_000184.txt', 'data\\\\labels\\\\01\\\\1_000185.txt', 'data\\\\labels\\\\01\\\\1_000186.txt', 'data\\\\labels\\\\01\\\\1_000187.txt', 'data\\\\labels\\\\01\\\\1_000188.txt', 'data\\\\labels\\\\01\\\\1_000189.txt', 'data\\\\labels\\\\01\\\\1_000190.txt', 'data\\\\labels\\\\01\\\\1_000191.txt', 'data\\\\labels\\\\01\\\\1_000192.txt', 'data\\\\labels\\\\01\\\\1_000193.txt', 'data\\\\labels\\\\01\\\\1_000194.txt', 'data\\\\labels\\\\01\\\\1_000195.txt', 'data\\\\labels\\\\01\\\\1_000196.txt', 'data\\\\labels\\\\01\\\\1_000197.txt', 'data\\\\labels\\\\01\\\\1_000198.txt', 'data\\\\labels\\\\01\\\\1_000199.txt', 'data\\\\labels\\\\01\\\\1_000200.txt', 'data\\\\labels\\\\01\\\\1_000201.txt', 'data\\\\labels\\\\01\\\\1_000202.txt', 'data\\\\labels\\\\01\\\\1_000203.txt', 'data\\\\labels\\\\01\\\\1_000204.txt', 'data\\\\labels\\\\01\\\\1_000205.txt', 'data\\\\labels\\\\01\\\\1_000206.txt', 'data\\\\labels\\\\01\\\\1_000207.txt', 'data\\\\labels\\\\01\\\\1_000208.txt', 'data\\\\labels\\\\01\\\\1_000209.txt', 'data\\\\labels\\\\01\\\\1_000210.txt', 'data\\\\labels\\\\01\\\\1_000211.txt', 'data\\\\labels\\\\01\\\\1_000212.txt', 'data\\\\labels\\\\01\\\\1_000213.txt', 'data\\\\labels\\\\01\\\\1_000214.txt', 'data\\\\labels\\\\01\\\\1_000215.txt', 'data\\\\labels\\\\01\\\\1_000216.txt', 'data\\\\labels\\\\01\\\\1_000217.txt', 'data\\\\labels\\\\01\\\\1_000218.txt', 'data\\\\labels\\\\01\\\\1_000219.txt', 'data\\\\labels\\\\01\\\\1_000220.txt', 'data\\\\labels\\\\01\\\\1_000221.txt', 'data\\\\labels\\\\01\\\\1_000222.txt', 'data\\\\labels\\\\01\\\\1_000223.txt', 'data\\\\labels\\\\01\\\\1_000224.txt', 'data\\\\labels\\\\01\\\\1_000225.txt', 'data\\\\labels\\\\01\\\\1_000226.txt', 'data\\\\labels\\\\01\\\\1_000227.txt', 'data\\\\labels\\\\01\\\\1_000228.txt', 'data\\\\labels\\\\01\\\\1_000229.txt', 'data\\\\labels\\\\01\\\\1_000230.txt', 'data\\\\labels\\\\01\\\\1_000231.txt', 'data\\\\labels\\\\01\\\\1_000232.txt', 'data\\\\labels\\\\01\\\\1_000233.txt', 'data\\\\labels\\\\01\\\\1_000234.txt', 'data\\\\labels\\\\01\\\\1_000235.txt', 'data\\\\labels\\\\01\\\\1_000236.txt', 'data\\\\labels\\\\01\\\\1_000237.txt', 'data\\\\labels\\\\01\\\\1_000238.txt', 'data\\\\labels\\\\01\\\\1_000239.txt', 'data\\\\labels\\\\01\\\\1_000240.txt', 'data\\\\labels\\\\01\\\\1_000241.txt', 'data\\\\labels\\\\01\\\\1_000242.txt', 'data\\\\labels\\\\01\\\\1_000243.txt', 'data\\\\labels\\\\01\\\\1_000244.txt', 'data\\\\labels\\\\01\\\\1_000245.txt', 'data\\\\labels\\\\01\\\\1_000246.txt', 'data\\\\labels\\\\01\\\\1_000247.txt', 'data\\\\labels\\\\01\\\\1_000248.txt', 'data\\\\labels\\\\01\\\\1_000249.txt', 'data\\\\labels\\\\01\\\\1_000250.txt', 'data\\\\labels\\\\01\\\\1_000251.txt', 'data\\\\labels\\\\01\\\\1_000252.txt', 'data\\\\labels\\\\01\\\\1_000253.txt', 'data\\\\labels\\\\01\\\\1_000254.txt', 'data\\\\labels\\\\01\\\\1_000255.txt', 'data\\\\labels\\\\01\\\\1_000256.txt', 'data\\\\labels\\\\01\\\\1_000257.txt', 'data\\\\labels\\\\01\\\\1_000258.txt', 'data\\\\labels\\\\01\\\\1_000259.txt', 'data\\\\labels\\\\01\\\\1_000260.txt', 'data\\\\labels\\\\01\\\\1_000261.txt', 'data\\\\labels\\\\01\\\\1_000262.txt', 'data\\\\labels\\\\01\\\\1_000263.txt', 'data\\\\labels\\\\01\\\\1_000264.txt', 'data\\\\labels\\\\01\\\\1_000265.txt', 'data\\\\labels\\\\01\\\\1_000266.txt', 'data\\\\labels\\\\01\\\\1_000267.txt', 'data\\\\labels\\\\01\\\\1_000268.txt', 'data\\\\labels\\\\01\\\\1_000269.txt', 'data\\\\labels\\\\01\\\\1_000270.txt', 'data\\\\labels\\\\01\\\\1_000271.txt', 'data\\\\labels\\\\01\\\\1_000272.txt', 'data\\\\labels\\\\01\\\\1_000273.txt', 'data\\\\labels\\\\01\\\\1_000274.txt', 'data\\\\labels\\\\01\\\\1_000275.txt', 'data\\\\labels\\\\01\\\\1_000276.txt', 'data\\\\labels\\\\01\\\\1_000277.txt', 'data\\\\labels\\\\01\\\\1_000278.txt', 'data\\\\labels\\\\01\\\\1_000279.txt', 'data\\\\labels\\\\01\\\\1_000280.txt', 'data\\\\labels\\\\01\\\\1_000281.txt', 'data\\\\labels\\\\01\\\\1_000282.txt', 'data\\\\labels\\\\01\\\\1_000283.txt', 'data\\\\labels\\\\01\\\\1_000284.txt', 'data\\\\labels\\\\01\\\\1_000285.txt', 'data\\\\labels\\\\01\\\\1_000286.txt', 'data\\\\labels\\\\01\\\\1_000287.txt', 'data\\\\labels\\\\01\\\\1_000288.txt', 'data\\\\labels\\\\01\\\\1_000289.txt', 'data\\\\labels\\\\01\\\\1_000290.txt', 'data\\\\labels\\\\01\\\\1_000291.txt', 'data\\\\labels\\\\01\\\\1_000292.txt', 'data\\\\labels\\\\01\\\\1_000293.txt', 'data\\\\labels\\\\01\\\\1_000294.txt', 'data\\\\labels\\\\01\\\\1_000295.txt', 'data\\\\labels\\\\01\\\\1_000296.txt', 'data\\\\labels\\\\01\\\\1_000297.txt', 'data\\\\labels\\\\01\\\\1_000298.txt', 'data\\\\labels\\\\01\\\\1_000299.txt', 'data\\\\labels\\\\01\\\\1_000300.txt', 'data\\\\labels\\\\01\\\\1_000301.txt', 'data\\\\labels\\\\01\\\\1_000302.txt', 'data\\\\labels\\\\01\\\\1_000303.txt', 'data\\\\labels\\\\01\\\\1_000304.txt', 'data\\\\labels\\\\01\\\\1_000305.txt', 'data\\\\labels\\\\01\\\\1_000306.txt', 'data\\\\labels\\\\01\\\\1_000307.txt', 'data\\\\labels\\\\01\\\\1_000308.txt', 'data\\\\labels\\\\01\\\\1_000309.txt', 'data\\\\labels\\\\01\\\\1_000310.txt', 'data\\\\labels\\\\01\\\\1_000311.txt', 'data\\\\labels\\\\01\\\\1_000312.txt', 'data\\\\labels\\\\01\\\\1_000313.txt', 'data\\\\labels\\\\01\\\\1_000314.txt', 'data\\\\labels\\\\01\\\\1_000315.txt', 'data\\\\labels\\\\01\\\\1_000316.txt', 'data\\\\labels\\\\01\\\\1_000317.txt', 'data\\\\labels\\\\01\\\\1_000318.txt', 'data\\\\labels\\\\01\\\\1_000319.txt', 'data\\\\labels\\\\01\\\\1_000320.txt', 'data\\\\labels\\\\01\\\\1_000321.txt', 'data\\\\labels\\\\01\\\\1_000322.txt', 'data\\\\labels\\\\01\\\\1_000323.txt', 'data\\\\labels\\\\01\\\\1_000324.txt', 'data\\\\labels\\\\01\\\\1_000325.txt', 'data\\\\labels\\\\01\\\\1_000326.txt', 'data\\\\labels\\\\01\\\\1_000327.txt', 'data\\\\labels\\\\01\\\\1_000328.txt', 'data\\\\labels\\\\01\\\\1_000329.txt', 'data\\\\labels\\\\01\\\\1_000330.txt', 'data\\\\labels\\\\01\\\\1_000331.txt', 'data\\\\labels\\\\01\\\\1_000332.txt', 'data\\\\labels\\\\01\\\\1_000333.txt', 'data\\\\labels\\\\01\\\\1_000334.txt', 'data\\\\labels\\\\01\\\\1_000335.txt', 'data\\\\labels\\\\01\\\\1_000336.txt', 'data\\\\labels\\\\01\\\\1_000337.txt', 'data\\\\labels\\\\01\\\\1_000338.txt', 'data\\\\labels\\\\01\\\\1_000339.txt', 'data\\\\labels\\\\01\\\\1_000340.txt', 'data\\\\labels\\\\01\\\\1_000341.txt', 'data\\\\labels\\\\01\\\\1_000342.txt', 'data\\\\labels\\\\01\\\\1_000343.txt', 'data\\\\labels\\\\01\\\\1_000344.txt', 'data\\\\labels\\\\01\\\\1_000345.txt', 'data\\\\labels\\\\01\\\\1_000346.txt', 'data\\\\labels\\\\01\\\\1_000347.txt', 'data\\\\labels\\\\01\\\\1_000348.txt', 'data\\\\labels\\\\01\\\\1_000349.txt', 'data\\\\labels\\\\01\\\\1_000350.txt', 'data\\\\labels\\\\01\\\\1_000351.txt', 'data\\\\labels\\\\01\\\\1_000352.txt', 'data\\\\labels\\\\01\\\\1_000353.txt', 'data\\\\labels\\\\01\\\\1_000354.txt', 'data\\\\labels\\\\01\\\\1_000355.txt', 'data\\\\labels\\\\01\\\\1_000356.txt', 'data\\\\labels\\\\01\\\\1_000357.txt', 'data\\\\labels\\\\01\\\\1_000358.txt', 'data\\\\labels\\\\01\\\\1_000359.txt', 'data\\\\labels\\\\01\\\\1_000360.txt', 'data\\\\labels\\\\01\\\\1_000361.txt', 'data\\\\labels\\\\01\\\\1_000362.txt', 'data\\\\labels\\\\01\\\\1_000363.txt', 'data\\\\labels\\\\01\\\\1_000364.txt', 'data\\\\labels\\\\01\\\\1_000365.txt', 'data\\\\labels\\\\01\\\\1_000366.txt', 'data\\\\labels\\\\01\\\\1_000367.txt', 'data\\\\labels\\\\01\\\\1_000368.txt', 'data\\\\labels\\\\01\\\\1_000369.txt', 'data\\\\labels\\\\01\\\\1_000370.txt', 'data\\\\labels\\\\01\\\\1_000371.txt', 'data\\\\labels\\\\01\\\\1_000372.txt', 'data\\\\labels\\\\01\\\\1_000373.txt', 'data\\\\labels\\\\01\\\\1_000374.txt', 'data\\\\labels\\\\01\\\\1_000375.txt', 'data\\\\labels\\\\01\\\\1_000376.txt', 'data\\\\labels\\\\01\\\\1_000377.txt', 'data\\\\labels\\\\01\\\\1_000378.txt', 'data\\\\labels\\\\01\\\\1_000379.txt', 'data\\\\labels\\\\01\\\\1_000380.txt', 'data\\\\labels\\\\01\\\\1_000381.txt', 'data\\\\labels\\\\01\\\\1_000382.txt', 'data\\\\labels\\\\01\\\\1_000383.txt', 'data\\\\labels\\\\01\\\\1_000384.txt', 'data\\\\labels\\\\01\\\\1_000385.txt', 'data\\\\labels\\\\01\\\\1_000386.txt', 'data\\\\labels\\\\01\\\\1_000387.txt', 'data\\\\labels\\\\01\\\\1_000388.txt', 'data\\\\labels\\\\01\\\\1_000389.txt', 'data\\\\labels\\\\01\\\\1_000390.txt', 'data\\\\labels\\\\01\\\\1_000391.txt', 'data\\\\labels\\\\01\\\\1_000392.txt', 'data\\\\labels\\\\01\\\\1_000393.txt', 'data\\\\labels\\\\01\\\\1_000394.txt', 'data\\\\labels\\\\01\\\\1_000395.txt', 'data\\\\labels\\\\01\\\\1_000396.txt', 'data\\\\labels\\\\01\\\\1_000397.txt', 'data\\\\labels\\\\01\\\\1_000398.txt', 'data\\\\labels\\\\01\\\\1_000399.txt', 'data\\\\labels\\\\01\\\\1_000400.txt', 'data\\\\labels\\\\01\\\\1_000401.txt', 'data\\\\labels\\\\01\\\\1_000402.txt', 'data\\\\labels\\\\01\\\\1_000403.txt', 'data\\\\labels\\\\01\\\\1_000404.txt', 'data\\\\labels\\\\01\\\\1_000405.txt', 'data\\\\labels\\\\01\\\\1_000406.txt', 'data\\\\labels\\\\01\\\\1_000407.txt', 'data\\\\labels\\\\01\\\\1_000408.txt', 'data\\\\labels\\\\01\\\\1_000409.txt', 'data\\\\labels\\\\01\\\\1_000410.txt', 'data\\\\labels\\\\01\\\\1_000411.txt', 'data\\\\labels\\\\01\\\\1_000412.txt', 'data\\\\labels\\\\01\\\\1_000413.txt', 'data\\\\labels\\\\01\\\\1_000414.txt', 'data\\\\labels\\\\01\\\\1_000415.txt', 'data\\\\labels\\\\01\\\\1_000416.txt', 'data\\\\labels\\\\01\\\\1_000417.txt', 'data\\\\labels\\\\01\\\\1_000418.txt', 'data\\\\labels\\\\01\\\\1_000419.txt', 'data\\\\labels\\\\01\\\\1_000420.txt', 'data\\\\labels\\\\01\\\\1_000421.txt', 'data\\\\labels\\\\01\\\\1_000422.txt', 'data\\\\labels\\\\01\\\\1_000423.txt', 'data\\\\labels\\\\01\\\\1_000424.txt', 'data\\\\labels\\\\01\\\\1_000425.txt', 'data\\\\labels\\\\01\\\\1_000426.txt', 'data\\\\labels\\\\01\\\\1_000427.txt', 'data\\\\labels\\\\01\\\\1_000428.txt', 'data\\\\labels\\\\01\\\\1_000429.txt', 'data\\\\labels\\\\01\\\\1_000430.txt', 'data\\\\labels\\\\01\\\\1_000431.txt', 'data\\\\labels\\\\01\\\\1_000432.txt', 'data\\\\labels\\\\01\\\\1_000433.txt', 'data\\\\labels\\\\01\\\\1_000434.txt', 'data\\\\labels\\\\01\\\\1_000435.txt', 'data\\\\labels\\\\01\\\\1_000436.txt', 'data\\\\labels\\\\01\\\\1_000437.txt', 'data\\\\labels\\\\01\\\\1_000438.txt', 'data\\\\labels\\\\01\\\\1_000439.txt', 'data\\\\labels\\\\01\\\\1_000440.txt', 'data\\\\labels\\\\01\\\\1_000441.txt', 'data\\\\labels\\\\01\\\\1_000442.txt', 'data\\\\labels\\\\01\\\\1_000443.txt', 'data\\\\labels\\\\01\\\\1_000444.txt', 'data\\\\labels\\\\01\\\\1_000445.txt', 'data\\\\labels\\\\01\\\\1_000446.txt', 'data\\\\labels\\\\01\\\\1_000447.txt', 'data\\\\labels\\\\01\\\\1_000448.txt', 'data\\\\labels\\\\01\\\\1_000449.txt', 'data\\\\labels\\\\01\\\\1_000450.txt', 'data\\\\labels\\\\01\\\\1_000451.txt', 'data\\\\labels\\\\01\\\\1_000452.txt', 'data\\\\labels\\\\01\\\\1_000453.txt', 'data\\\\labels\\\\01\\\\1_000454.txt', 'data\\\\labels\\\\01\\\\1_000455.txt', 'data\\\\labels\\\\01\\\\1_000456.txt', 'data\\\\labels\\\\01\\\\1_000457.txt', 'data\\\\labels\\\\01\\\\1_000458.txt', 'data\\\\labels\\\\01\\\\1_000459.txt', 'data\\\\labels\\\\01\\\\1_000460.txt', 'data\\\\labels\\\\01\\\\1_000461.txt', 'data\\\\labels\\\\01\\\\1_000462.txt', 'data\\\\labels\\\\01\\\\1_000463.txt', 'data\\\\labels\\\\01\\\\1_000464.txt', 'data\\\\labels\\\\01\\\\1_000465.txt', 'data\\\\labels\\\\01\\\\1_000466.txt', 'data\\\\labels\\\\01\\\\1_000467.txt', 'data\\\\labels\\\\01\\\\1_000468.txt', 'data\\\\labels\\\\01\\\\1_000469.txt', 'data\\\\labels\\\\01\\\\1_000470.txt', 'data\\\\labels\\\\01\\\\1_000471.txt', 'data\\\\labels\\\\01\\\\1_000472.txt', 'data\\\\labels\\\\01\\\\1_000473.txt', 'data\\\\labels\\\\01\\\\1_000474.txt', 'data\\\\labels\\\\01\\\\1_000475.txt', 'data\\\\labels\\\\01\\\\1_000476.txt', 'data\\\\labels\\\\01\\\\1_000477.txt', 'data\\\\labels\\\\01\\\\1_000478.txt', 'data\\\\labels\\\\01\\\\1_000479.txt', 'data\\\\labels\\\\01\\\\1_000480.txt', 'data\\\\labels\\\\01\\\\1_000481.txt', 'data\\\\labels\\\\01\\\\1_000482.txt', 'data\\\\labels\\\\01\\\\1_000483.txt', 'data\\\\labels\\\\01\\\\1_000484.txt', 'data\\\\labels\\\\01\\\\1_000485.txt', 'data\\\\labels\\\\01\\\\1_000486.txt', 'data\\\\labels\\\\01\\\\1_000487.txt', 'data\\\\labels\\\\01\\\\1_000488.txt', 'data\\\\labels\\\\01\\\\1_000489.txt', 'data\\\\labels\\\\01\\\\1_000490.txt', 'data\\\\labels\\\\01\\\\1_000491.txt', 'data\\\\labels\\\\01\\\\1_000492.txt', 'data\\\\labels\\\\01\\\\1_000493.txt', 'data\\\\labels\\\\01\\\\1_000494.txt', 'data\\\\labels\\\\01\\\\1_000495.txt', 'data\\\\labels\\\\01\\\\1_000496.txt', 'data\\\\labels\\\\01\\\\1_000497.txt', 'data\\\\labels\\\\01\\\\1_000498.txt', 'data\\\\labels\\\\01\\\\1_000499.txt', 'data\\\\labels\\\\01\\\\1_000500.txt']\n"
     ]
    }
   ],
   "source": [
    "IMG_DIR = Path(\"./data/images\")\n",
    "LABELS_DIR = Path(\"./data/labels\")\n",
    "\n",
    "IMG_PART = [i for i in IMG_DIR.iterdir()][0]\n",
    "LABELS_PART= [i for i in LABELS_DIR.iterdir()][0]\n",
    "\n",
    "images_files = glob.glob(str(IMG_PART)+ \"/*\")\n",
    "labels_files = glob.glob(str(LABELS_PART)+ \"/*\")"
   ]
  }
 ],
 "metadata": {
  "kernelspec": {
   "display_name": "cv-env",
   "language": "python",
   "name": "python3"
  },
  "language_info": {
   "codemirror_mode": {
    "name": "ipython",
    "version": 3
   },
   "file_extension": ".py",
   "mimetype": "text/x-python",
   "name": "python",
   "nbconvert_exporter": "python",
   "pygments_lexer": "ipython3",
   "version": "3.12.7"
  }
 },
 "nbformat": 4,
 "nbformat_minor": 2
}
